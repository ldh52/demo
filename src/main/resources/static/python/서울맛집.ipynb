{
  "nbformat": 4,
  "nbformat_minor": 0,
  "metadata": {
    "colab": {
      "provenance": []
    },
    "kernelspec": {
      "name": "python3",
      "display_name": "Python 3"
    },
    "language_info": {
      "name": "python"
    }
  },
  "cells": [
    {
      "cell_type": "markdown",
      "source": [
        "## Visit Seoul Net"
      ],
      "metadata": {
        "id": "NSoRsZqQsbQQ"
      }
    },
    {
      "cell_type": "code",
      "source": [
        "import requests\n",
        "import pandas as pd\n",
        "from tqdm import tqdm\n",
        "from bs4 import BeautifulSoup"
      ],
      "metadata": {
        "id": "TFLW61kfsfZV"
      },
      "execution_count": 2,
      "outputs": []
    },
    {
      "cell_type": "code",
      "source": [
        "base_url = 'https://korean.visitseoul.net'\n",
        "url = f'{base_url}/restaurants?curPage=1'\n",
        "result = requests.get(url)\n",
        "soup = BeautifulSoup(result.text, 'html.parser')"
      ],
      "metadata": {
        "id": "ExHOUdXTsrZN"
      },
      "execution_count": 6,
      "outputs": []
    },
    {
      "cell_type": "markdown",
      "source": [
        "- 한개를 선택해서 데이터 추출"
      ],
      "metadata": {
        "id": "70x_nU854lsn"
      }
    },
    {
      "cell_type": "code",
      "source": [
        "lis = soup.select('li.item')\n",
        "len(lis)"
      ],
      "metadata": {
        "colab": {
          "base_uri": "https://localhost:8080/"
        },
        "id": "jWHOItZqtb62",
        "outputId": "cfea0509-051f-40e2-b1a2-0f6b980846ed"
      },
      "execution_count": 7,
      "outputs": [
        {
          "output_type": "execute_result",
          "data": {
            "text/plain": [
              "8"
            ]
          },
          "metadata": {},
          "execution_count": 7
        }
      ]
    },
    {
      "cell_type": "code",
      "source": [
        "li = lis[0]\n",
        "href = li.select_one('a')['href']\n",
        "href"
      ],
      "metadata": {
        "colab": {
          "base_uri": "https://localhost:8080/",
          "height": 35
        },
        "id": "ftKXt2l_t7K0",
        "outputId": "9a480f0f-75c1-4e2e-b799-76899e57c7b8"
      },
      "execution_count": 8,
      "outputs": [
        {
          "output_type": "execute_result",
          "data": {
            "text/plain": [
              "'/restaurants/통인시장/KOP000281'"
            ],
            "application/vnd.google.colaboratory.intrinsic+json": {
              "type": "string"
            }
          },
          "metadata": {},
          "execution_count": 8
        }
      ]
    },
    {
      "cell_type": "code",
      "source": [
        "sub_url = f'{base_url}{href}'\n",
        "sub_res = requests.get(sub_url)\n",
        "sub_soup = BeautifulSoup(sub_res.text, 'html.parser')"
      ],
      "metadata": {
        "id": "99iQMiRquW6s"
      },
      "execution_count": 9,
      "outputs": []
    },
    {
      "cell_type": "code",
      "source": [
        "name = sub_soup.select_one('.h3.textcenter').text.strip()\n",
        "name"
      ],
      "metadata": {
        "colab": {
          "base_uri": "https://localhost:8080/",
          "height": 35
        },
        "id": "9jpUAx0QvVIk",
        "outputId": "2fc96161-006c-4d22-9127-7403e220555d"
      },
      "execution_count": 10,
      "outputs": [
        {
          "output_type": "execute_result",
          "data": {
            "text/plain": [
              "'통인시장'"
            ],
            "application/vnd.google.colaboratory.intrinsic+json": {
              "type": "string"
            }
          },
          "metadata": {},
          "execution_count": 10
        }
      ]
    },
    {
      "cell_type": "code",
      "source": [
        "intro = sub_soup.select_one('.text-area').get_text().strip().replace(u'\\xa0', u' ')\n",
        "intro"
      ],
      "metadata": {
        "colab": {
          "base_uri": "https://localhost:8080/",
          "height": 90
        },
        "id": "d67G9crmv2LM",
        "outputId": "ab555d78-d1fc-4100-dfac-1cc7106ca5d3"
      },
      "execution_count": 12,
      "outputs": [
        {
          "output_type": "execute_result",
          "data": {
            "text/plain": [
              "'세종마을은 추사 김정희 등 조선시대 예능인들이 모이는 중심지였으며 근대에도 이상 등 문인들이 활동하던 중심지였다. 일제강점기 일본인들을 위해 만들어진 공설시장이 모태이나 6.25이후 인구증가로 시장의 필요성이 높아져 현재처럼 물건을 사고파는 시장의 형태를 갖추게 되었다.    통인시장은 상권이 활성화된 곳으로 다른 전통시장의 벤치마킹 사례로 유명하며 특히 통인시장에서 자체 제작한 엽전은 통인시장만의 즐길 거리다. 엽전으로 환전함과 동시에 검은색 플라스틱 식판도 받게 되는데 이때부터 식판을 들고 다니면서 시장 곳곳을 다니며 음식을 먹을 수 있다. 단, 엽전은 가맹점에서만 사용 가능하다.'"
            ],
            "application/vnd.google.colaboratory.intrinsic+json": {
              "type": "string"
            }
          },
          "metadata": {},
          "execution_count": 12
        }
      ]
    },
    {
      "cell_type": "code",
      "source": [
        "dls = sub_soup.select('.detail-map-infor.first.border > dl')\n",
        "len(dls)"
      ],
      "metadata": {
        "colab": {
          "base_uri": "https://localhost:8080/"
        },
        "id": "Xx0roLJCwwTF",
        "outputId": "15bf1b80-f2ec-4e25-f059-fa0b34b97cfb"
      },
      "execution_count": 13,
      "outputs": [
        {
          "output_type": "execute_result",
          "data": {
            "text/plain": [
              "7"
            ]
          },
          "metadata": {},
          "execution_count": 13
        }
      ]
    },
    {
      "cell_type": "code",
      "source": [
        "info_dict = {}\n",
        "for dl in dls:\n",
        "    dt = dl.select_one('dt').text.strip()\n",
        "    dd = dl.select_one('dd').text.strip().replace(u'\\xa0', u' ').replace('\\r', '\\n')\n",
        "    if dd == '웹사이트 보기':\n",
        "        dd = dl.select_one('a')['href']\n",
        "    info_dict[dt] = dd\n",
        "info_dict"
      ],
      "metadata": {
        "colab": {
          "base_uri": "https://localhost:8080/"
        },
        "id": "reWjPFscxqTl",
        "outputId": "0a090c37-161b-4428-cf31-df9f378dcf54"
      },
      "execution_count": 16,
      "outputs": [
        {
          "output_type": "execute_result",
          "data": {
            "text/plain": [
              "{'전화번호': '02-722-0911',\n",
              " '웹사이트': 'https://tonginmarket.modoo.at/',\n",
              " '홈페이지 언어': '한국어',\n",
              " '이용시간': '통인시장 영업시간 : 07:00 ~ 21:00\\n※ 상점에 따라 상이하며, 정확한 개점, 폐점 시간은 없음\\n 도시락 카페 영업시간 화~금 11:00 ~ 16:00, 토~일 11:00 ~ 17:00 \\n※ 도시락 카페 엽전 판매는 평일 11:00 ~ 15:00, 주말 11:00 ~ 16:00까지',\n",
              " '휴무일': '통인시장 휴무일 : 매월 셋째주 일요일\\n도시락 카페 휴무일 : 매주 월요일, 매월 셋째주 일요일',\n",
              " '주소': '03036  서울 종로구 자하문로15길 18',\n",
              " '교통 정보': '3호선 경복궁역 2번 출구에서 약 515m (도보 8분)'}"
            ]
          },
          "metadata": {},
          "execution_count": 16
        }
      ]
    },
    {
      "cell_type": "code",
      "source": [
        "inner_divs = sub_soup.select('.trip-lst > li > div.inner')\n",
        "len(inner_divs)"
      ],
      "metadata": {
        "colab": {
          "base_uri": "https://localhost:8080/"
        },
        "id": "gF790XRcyFMU",
        "outputId": "68739384-936f-4786-8f90-df6e398e8e2b"
      },
      "execution_count": 20,
      "outputs": [
        {
          "output_type": "execute_result",
          "data": {
            "text/plain": [
              "5"
            ]
          },
          "metadata": {},
          "execution_count": 20
        }
      ]
    },
    {
      "cell_type": "code",
      "source": [
        "reviews = []\n",
        "for inner_div in inner_divs:\n",
        "    review = inner_div.select_one('dd').text.strip()\n",
        "    score = inner_div.select_one('div.group-01 > img.trip-02')['alt'].split(':')[1]\n",
        "    row = {'review': review, 'score': score}\n",
        "    reviews.append(row)\n",
        "reviews"
      ],
      "metadata": {
        "colab": {
          "base_uri": "https://localhost:8080/"
        },
        "id": "LhKDKvR0zwlt",
        "outputId": "a9548ef0-ff05-4285-f8f9-eadb73593f7f"
      },
      "execution_count": 23,
      "outputs": [
        {
          "output_type": "execute_result",
          "data": {
            "text/plain": [
              "[{'review': '생각보다 짧고 작은 시장입니다. 그러나 엽전은 정말 색다르고, 통인시장만의 색깔을 갖게 하는 좋은 아이디어인것 같습니다.\\n 시장분들도 판매하는것 좋지만 차가운 음식은 전자렌지 돌리라는 안내좀 해주셨으면ㅠㅠ',\n",
              "  'score': '4'},\n",
              " {'review': '시장에 장을 보러 간다기보다는 분위기를 느끼고 길거리음식들 사먹는 재미로 들러보면 좋을 것 같다\\n물건들을 사는 방식이 옛날 조선시대 스타일이어서 아이들이 함께가도 재밌을것 같아요',\n",
              "  'score': '3'},\n",
              " {'review': '북촌들려 경복궁 관람 후 서촌으로 넘어가서 통인시장마무리, 이 코스 나쁘지 않다. 통인시장은 엽전을 사고, 다니면서 원하는 음식을 도시락 용기에 담는다. 서서 먹어도 되지만 2층에 준비된 공간도 있다. 음식맛 최고인데 겨울에는 음식을 만드는 곳 앞에서 바로 먹는것을 추천한다. 담아서 다니다 보면 일찍 식어버려서 맛이 떨어진다. 주말에는 너무 복잡하고...',\n",
              "  'score': '4'},\n",
              " {'review': '엽전을 이용한 도시락을 먹을 수 있어서 색다른 추억을 만들 수 있습니다. 기름떡볶이, 떡갈비 등 다양한 음식을 즐길 수 있어요. 다만 대체적으로 기름지거나 튀긴 음식이 많아요',\n",
              "  'score': '3'},\n",
              " {'review': '종로 쪽 좋아해서 자주 다니는데, 주로 북촌만 가다가 서촌쪽에서 이곳에 처음 갔을 때 떡갈비의 맛에 반해버렸습니다. 그래서 저거 먹고싶어서라도 가요. 떡볶이떡같은 떡에 고기를 입혀서 구워주시는 느낌이에요. 아 물론 다른 가게들도 맛있습니다. 도시락카페 좋은 것 같아요',\n",
              "  'score': '4'}]"
            ]
          },
          "metadata": {},
          "execution_count": 23
        }
      ]
    },
    {
      "cell_type": "markdown",
      "source": [
        "- 한 페이지 내에 있는 정보 추출"
      ],
      "metadata": {
        "id": "YTErjBIy4tRs"
      }
    },
    {
      "cell_type": "code",
      "source": [
        "lines = []\n",
        "for li in lis:\n",
        "    href = li.select_one('a')['href']\n",
        "    sub_url = f'{base_url}{href}'\n",
        "    sub_res = requests.get(sub_url)\n",
        "    sub_soup = BeautifulSoup(sub_res.text, 'html.parser')\n",
        "\n",
        "    name = sub_soup.select_one('.h3.textcenter').text.strip()\n",
        "    intro = sub_soup.select_one('.text-area').get_text().strip().replace(u'\\xa0', u' ')\n",
        "    dls = sub_soup.select('.detail-map-infor.first.border > dl')\n",
        "    info_dict = {}\n",
        "    for dl in dls:\n",
        "        dt = dl.select_one('dt').text.strip()\n",
        "        dd = dl.select_one('dd').text.strip().replace(u'\\xa0', u' ').replace('\\r', '\\n')\n",
        "        if dd == '웹사이트 보기':\n",
        "            dd = dl.select_one('a')['href']\n",
        "        info_dict[dt] = dd\n",
        "\n",
        "    inner_divs = sub_soup.select('.trip-lst > li > div.inner')\n",
        "    reviews = []\n",
        "    for inner_div in inner_divs:\n",
        "        review = inner_div.select_one('dd').text.strip()\n",
        "        score = inner_div.select_one('div.group-01 > img.trip-02')['alt'].split(':')[1]\n",
        "        row = {'review': review, 'score': score}\n",
        "        reviews.append(row)\n",
        "\n",
        "    lines.append({'상호': name, '설명': intro, '업소정보': info_dict, '리뷰': reviews})"
      ],
      "metadata": {
        "id": "phhRz2J41rDN"
      },
      "execution_count": 24,
      "outputs": []
    },
    {
      "cell_type": "code",
      "source": [
        "df = pd.DataFrame(lines)\n",
        "df.head()"
      ],
      "metadata": {
        "colab": {
          "base_uri": "https://localhost:8080/",
          "height": 293
        },
        "id": "vxyR_v6Z5spt",
        "outputId": "9eabe6e5-2352-41d6-dbb4-f43d045d5dc2"
      },
      "execution_count": 25,
      "outputs": [
        {
          "output_type": "execute_result",
          "data": {
            "text/plain": [
              "                상호                                                 설명  \\\n",
              "0             통인시장  세종마을은 추사 김정희 등 조선시대 예능인들이 모이는 중심지였으며 근대에도 이상 등...   \n",
              "1            두레한식당  60여 년 전 경남 밀양에서 개업한 이래, 인사동에서 2대에 걸쳐 명맥을 이어온 유...   \n",
              "2       카몽(KAMONG)  엑소의 멤버 ‘카이가 꿈을 꾸다’라는 뜻을 가진 카페 카몽은 카이의 누나가 운영하고...   \n",
              "3  놀부유황오리진흙구이(잠실점)  보약을 다리는 정성으로 구워내는 유황오리. 유황오리 진흙구이는 황토진흙으로 만든 토...   \n",
              "4           클럽 NB2  강남역 거리 및 홍대 클럽 거리에 위치한 대형 힙합댄스 클럽이다. ’99년 말 홍대...   \n",
              "\n",
              "                                                업소정보  \\\n",
              "0  {'전화번호': '02-722-0911', '웹사이트': 'https://tongi...   \n",
              "1  {'전화번호': '02-3213-2638', '이용시간': '10:30 - 22:0...   \n",
              "2  {'전화번호': '0507-1498-5951', '웹사이트': 'http://ins...   \n",
              "3  {'전화번호': '0507-1383-5292', '이용시간': '11:30~22:0...   \n",
              "4  {'전화번호': '0507-1323-8213', '웹사이트': 'https://ww...   \n",
              "\n",
              "                                                  리뷰  \n",
              "0  [{'review': '생각보다 짧고 작은 시장입니다. 그러나 엽전은 정말 색다르고...  \n",
              "1                                                 []  \n",
              "2                                                 []  \n",
              "3  [{'review': '오리구이는 거의 바베큐로만 먹었는데 여기는 진흙구이 전문점이...  \n",
              "4  [{'review': '솔직히 좁지만 춤추기에는 나쁘지 않습니다. 테이블은 전부 다...  "
            ],
            "text/html": [
              "\n",
              "  <div id=\"df-7f75677d-860c-4a5b-b675-8ee393fdd800\" class=\"colab-df-container\">\n",
              "    <div>\n",
              "<style scoped>\n",
              "    .dataframe tbody tr th:only-of-type {\n",
              "        vertical-align: middle;\n",
              "    }\n",
              "\n",
              "    .dataframe tbody tr th {\n",
              "        vertical-align: top;\n",
              "    }\n",
              "\n",
              "    .dataframe thead th {\n",
              "        text-align: right;\n",
              "    }\n",
              "</style>\n",
              "<table border=\"1\" class=\"dataframe\">\n",
              "  <thead>\n",
              "    <tr style=\"text-align: right;\">\n",
              "      <th></th>\n",
              "      <th>상호</th>\n",
              "      <th>설명</th>\n",
              "      <th>업소정보</th>\n",
              "      <th>리뷰</th>\n",
              "    </tr>\n",
              "  </thead>\n",
              "  <tbody>\n",
              "    <tr>\n",
              "      <th>0</th>\n",
              "      <td>통인시장</td>\n",
              "      <td>세종마을은 추사 김정희 등 조선시대 예능인들이 모이는 중심지였으며 근대에도 이상 등...</td>\n",
              "      <td>{'전화번호': '02-722-0911', '웹사이트': 'https://tongi...</td>\n",
              "      <td>[{'review': '생각보다 짧고 작은 시장입니다. 그러나 엽전은 정말 색다르고...</td>\n",
              "    </tr>\n",
              "    <tr>\n",
              "      <th>1</th>\n",
              "      <td>두레한식당</td>\n",
              "      <td>60여 년 전 경남 밀양에서 개업한 이래, 인사동에서 2대에 걸쳐 명맥을 이어온 유...</td>\n",
              "      <td>{'전화번호': '02-3213-2638', '이용시간': '10:30 - 22:0...</td>\n",
              "      <td>[]</td>\n",
              "    </tr>\n",
              "    <tr>\n",
              "      <th>2</th>\n",
              "      <td>카몽(KAMONG)</td>\n",
              "      <td>엑소의 멤버 ‘카이가 꿈을 꾸다’라는 뜻을 가진 카페 카몽은 카이의 누나가 운영하고...</td>\n",
              "      <td>{'전화번호': '0507-1498-5951', '웹사이트': 'http://ins...</td>\n",
              "      <td>[]</td>\n",
              "    </tr>\n",
              "    <tr>\n",
              "      <th>3</th>\n",
              "      <td>놀부유황오리진흙구이(잠실점)</td>\n",
              "      <td>보약을 다리는 정성으로 구워내는 유황오리. 유황오리 진흙구이는 황토진흙으로 만든 토...</td>\n",
              "      <td>{'전화번호': '0507-1383-5292', '이용시간': '11:30~22:0...</td>\n",
              "      <td>[{'review': '오리구이는 거의 바베큐로만 먹었는데 여기는 진흙구이 전문점이...</td>\n",
              "    </tr>\n",
              "    <tr>\n",
              "      <th>4</th>\n",
              "      <td>클럽 NB2</td>\n",
              "      <td>강남역 거리 및 홍대 클럽 거리에 위치한 대형 힙합댄스 클럽이다. ’99년 말 홍대...</td>\n",
              "      <td>{'전화번호': '0507-1323-8213', '웹사이트': 'https://ww...</td>\n",
              "      <td>[{'review': '솔직히 좁지만 춤추기에는 나쁘지 않습니다. 테이블은 전부 다...</td>\n",
              "    </tr>\n",
              "  </tbody>\n",
              "</table>\n",
              "</div>\n",
              "    <div class=\"colab-df-buttons\">\n",
              "\n",
              "  <div class=\"colab-df-container\">\n",
              "    <button class=\"colab-df-convert\" onclick=\"convertToInteractive('df-7f75677d-860c-4a5b-b675-8ee393fdd800')\"\n",
              "            title=\"Convert this dataframe to an interactive table.\"\n",
              "            style=\"display:none;\">\n",
              "\n",
              "  <svg xmlns=\"http://www.w3.org/2000/svg\" height=\"24px\" viewBox=\"0 -960 960 960\">\n",
              "    <path d=\"M120-120v-720h720v720H120Zm60-500h600v-160H180v160Zm220 220h160v-160H400v160Zm0 220h160v-160H400v160ZM180-400h160v-160H180v160Zm440 0h160v-160H620v160ZM180-180h160v-160H180v160Zm440 0h160v-160H620v160Z\"/>\n",
              "  </svg>\n",
              "    </button>\n",
              "\n",
              "  <style>\n",
              "    .colab-df-container {\n",
              "      display:flex;\n",
              "      gap: 12px;\n",
              "    }\n",
              "\n",
              "    .colab-df-convert {\n",
              "      background-color: #E8F0FE;\n",
              "      border: none;\n",
              "      border-radius: 50%;\n",
              "      cursor: pointer;\n",
              "      display: none;\n",
              "      fill: #1967D2;\n",
              "      height: 32px;\n",
              "      padding: 0 0 0 0;\n",
              "      width: 32px;\n",
              "    }\n",
              "\n",
              "    .colab-df-convert:hover {\n",
              "      background-color: #E2EBFA;\n",
              "      box-shadow: 0px 1px 2px rgba(60, 64, 67, 0.3), 0px 1px 3px 1px rgba(60, 64, 67, 0.15);\n",
              "      fill: #174EA6;\n",
              "    }\n",
              "\n",
              "    .colab-df-buttons div {\n",
              "      margin-bottom: 4px;\n",
              "    }\n",
              "\n",
              "    [theme=dark] .colab-df-convert {\n",
              "      background-color: #3B4455;\n",
              "      fill: #D2E3FC;\n",
              "    }\n",
              "\n",
              "    [theme=dark] .colab-df-convert:hover {\n",
              "      background-color: #434B5C;\n",
              "      box-shadow: 0px 1px 3px 1px rgba(0, 0, 0, 0.15);\n",
              "      filter: drop-shadow(0px 1px 2px rgba(0, 0, 0, 0.3));\n",
              "      fill: #FFFFFF;\n",
              "    }\n",
              "  </style>\n",
              "\n",
              "    <script>\n",
              "      const buttonEl =\n",
              "        document.querySelector('#df-7f75677d-860c-4a5b-b675-8ee393fdd800 button.colab-df-convert');\n",
              "      buttonEl.style.display =\n",
              "        google.colab.kernel.accessAllowed ? 'block' : 'none';\n",
              "\n",
              "      async function convertToInteractive(key) {\n",
              "        const element = document.querySelector('#df-7f75677d-860c-4a5b-b675-8ee393fdd800');\n",
              "        const dataTable =\n",
              "          await google.colab.kernel.invokeFunction('convertToInteractive',\n",
              "                                                    [key], {});\n",
              "        if (!dataTable) return;\n",
              "\n",
              "        const docLinkHtml = 'Like what you see? Visit the ' +\n",
              "          '<a target=\"_blank\" href=https://colab.research.google.com/notebooks/data_table.ipynb>data table notebook</a>'\n",
              "          + ' to learn more about interactive tables.';\n",
              "        element.innerHTML = '';\n",
              "        dataTable['output_type'] = 'display_data';\n",
              "        await google.colab.output.renderOutput(dataTable, element);\n",
              "        const docLink = document.createElement('div');\n",
              "        docLink.innerHTML = docLinkHtml;\n",
              "        element.appendChild(docLink);\n",
              "      }\n",
              "    </script>\n",
              "  </div>\n",
              "\n",
              "\n",
              "<div id=\"df-c284ef9b-de9d-4a26-beb8-73d672c46456\">\n",
              "  <button class=\"colab-df-quickchart\" onclick=\"quickchart('df-c284ef9b-de9d-4a26-beb8-73d672c46456')\"\n",
              "            title=\"Suggest charts\"\n",
              "            style=\"display:none;\">\n",
              "\n",
              "<svg xmlns=\"http://www.w3.org/2000/svg\" height=\"24px\"viewBox=\"0 0 24 24\"\n",
              "     width=\"24px\">\n",
              "    <g>\n",
              "        <path d=\"M19 3H5c-1.1 0-2 .9-2 2v14c0 1.1.9 2 2 2h14c1.1 0 2-.9 2-2V5c0-1.1-.9-2-2-2zM9 17H7v-7h2v7zm4 0h-2V7h2v10zm4 0h-2v-4h2v4z\"/>\n",
              "    </g>\n",
              "</svg>\n",
              "  </button>\n",
              "\n",
              "<style>\n",
              "  .colab-df-quickchart {\n",
              "      --bg-color: #E8F0FE;\n",
              "      --fill-color: #1967D2;\n",
              "      --hover-bg-color: #E2EBFA;\n",
              "      --hover-fill-color: #174EA6;\n",
              "      --disabled-fill-color: #AAA;\n",
              "      --disabled-bg-color: #DDD;\n",
              "  }\n",
              "\n",
              "  [theme=dark] .colab-df-quickchart {\n",
              "      --bg-color: #3B4455;\n",
              "      --fill-color: #D2E3FC;\n",
              "      --hover-bg-color: #434B5C;\n",
              "      --hover-fill-color: #FFFFFF;\n",
              "      --disabled-bg-color: #3B4455;\n",
              "      --disabled-fill-color: #666;\n",
              "  }\n",
              "\n",
              "  .colab-df-quickchart {\n",
              "    background-color: var(--bg-color);\n",
              "    border: none;\n",
              "    border-radius: 50%;\n",
              "    cursor: pointer;\n",
              "    display: none;\n",
              "    fill: var(--fill-color);\n",
              "    height: 32px;\n",
              "    padding: 0;\n",
              "    width: 32px;\n",
              "  }\n",
              "\n",
              "  .colab-df-quickchart:hover {\n",
              "    background-color: var(--hover-bg-color);\n",
              "    box-shadow: 0 1px 2px rgba(60, 64, 67, 0.3), 0 1px 3px 1px rgba(60, 64, 67, 0.15);\n",
              "    fill: var(--button-hover-fill-color);\n",
              "  }\n",
              "\n",
              "  .colab-df-quickchart-complete:disabled,\n",
              "  .colab-df-quickchart-complete:disabled:hover {\n",
              "    background-color: var(--disabled-bg-color);\n",
              "    fill: var(--disabled-fill-color);\n",
              "    box-shadow: none;\n",
              "  }\n",
              "\n",
              "  .colab-df-spinner {\n",
              "    border: 2px solid var(--fill-color);\n",
              "    border-color: transparent;\n",
              "    border-bottom-color: var(--fill-color);\n",
              "    animation:\n",
              "      spin 1s steps(1) infinite;\n",
              "  }\n",
              "\n",
              "  @keyframes spin {\n",
              "    0% {\n",
              "      border-color: transparent;\n",
              "      border-bottom-color: var(--fill-color);\n",
              "      border-left-color: var(--fill-color);\n",
              "    }\n",
              "    20% {\n",
              "      border-color: transparent;\n",
              "      border-left-color: var(--fill-color);\n",
              "      border-top-color: var(--fill-color);\n",
              "    }\n",
              "    30% {\n",
              "      border-color: transparent;\n",
              "      border-left-color: var(--fill-color);\n",
              "      border-top-color: var(--fill-color);\n",
              "      border-right-color: var(--fill-color);\n",
              "    }\n",
              "    40% {\n",
              "      border-color: transparent;\n",
              "      border-right-color: var(--fill-color);\n",
              "      border-top-color: var(--fill-color);\n",
              "    }\n",
              "    60% {\n",
              "      border-color: transparent;\n",
              "      border-right-color: var(--fill-color);\n",
              "    }\n",
              "    80% {\n",
              "      border-color: transparent;\n",
              "      border-right-color: var(--fill-color);\n",
              "      border-bottom-color: var(--fill-color);\n",
              "    }\n",
              "    90% {\n",
              "      border-color: transparent;\n",
              "      border-bottom-color: var(--fill-color);\n",
              "    }\n",
              "  }\n",
              "</style>\n",
              "\n",
              "  <script>\n",
              "    async function quickchart(key) {\n",
              "      const quickchartButtonEl =\n",
              "        document.querySelector('#' + key + ' button');\n",
              "      quickchartButtonEl.disabled = true;  // To prevent multiple clicks.\n",
              "      quickchartButtonEl.classList.add('colab-df-spinner');\n",
              "      try {\n",
              "        const charts = await google.colab.kernel.invokeFunction(\n",
              "            'suggestCharts', [key], {});\n",
              "      } catch (error) {\n",
              "        console.error('Error during call to suggestCharts:', error);\n",
              "      }\n",
              "      quickchartButtonEl.classList.remove('colab-df-spinner');\n",
              "      quickchartButtonEl.classList.add('colab-df-quickchart-complete');\n",
              "    }\n",
              "    (() => {\n",
              "      let quickchartButtonEl =\n",
              "        document.querySelector('#df-c284ef9b-de9d-4a26-beb8-73d672c46456 button');\n",
              "      quickchartButtonEl.style.display =\n",
              "        google.colab.kernel.accessAllowed ? 'block' : 'none';\n",
              "    })();\n",
              "  </script>\n",
              "</div>\n",
              "\n",
              "    </div>\n",
              "  </div>\n"
            ],
            "application/vnd.google.colaboratory.intrinsic+json": {
              "type": "dataframe",
              "variable_name": "df",
              "summary": "{\n  \"name\": \"df\",\n  \"rows\": 8,\n  \"fields\": [\n    {\n      \"column\": \"\\uc0c1\\ud638\",\n      \"properties\": {\n        \"dtype\": \"string\",\n        \"num_unique_values\": 8,\n        \"samples\": [\n          \"\\ub450\\ub808\\ud55c\\uc2dd\\ub2f9\",\n          \"\\uc0bc\\uccad\\uac01\",\n          \"\\ud1b5\\uc778\\uc2dc\\uc7a5\"\n        ],\n        \"semantic_type\": \"\",\n        \"description\": \"\"\n      }\n    },\n    {\n      \"column\": \"\\uc124\\uba85\",\n      \"properties\": {\n        \"dtype\": \"string\",\n        \"num_unique_values\": 8,\n        \"samples\": [\n          \"60\\uc5ec \\ub144 \\uc804 \\uacbd\\ub0a8 \\ubc00\\uc591\\uc5d0\\uc11c \\uac1c\\uc5c5\\ud55c \\uc774\\ub798, \\uc778\\uc0ac\\ub3d9\\uc5d0\\uc11c 2\\ub300\\uc5d0 \\uac78\\uccd0 \\uba85\\ub9e5\\uc744 \\uc774\\uc5b4\\uc628 \\uc720\\uba85 \\ud55c\\uc815\\uc2dd \\ub808\\uc2a4\\ud1a0\\ub791\\uc774\\ub2e4. \\uc81c\\ucca0 \\uc2dd\\uc7ac\\ub8cc\\ub85c \\ub9cc\\ub4e0 \\uc815\\uac08\\ud558\\uace0 \\uae54\\ub054\\ud55c \\ud55c\\uc815\\uc2dd \\ucf54\\uc2a4\\uc640 \\uc77c\\ud488\\uc694\\ub9ac\\ub97c \\uc81c\\uacf5\\ud55c\\ub2e4. \\ud55c\\uc2dd\\uc774 \\uc775\\uc219\\uc9c0 \\uc54a\\uc740 \\uc678\\uad6d \\uad00\\uad11\\uac1d\\uc774\\ub77c\\uba74 \\uc11d\\uc1e0\\uc5d0 \\uad6c\\uc6b4 \\ub5a1\\uac08\\ube44 \\uba54\\ub274, \\uc0b0\\ucc44\\ube44\\ube54\\ubc25 \\ubc18\\uc0c1 \\ub4f1\\uc744 \\ucd94\\ucc9c\\ud55c\\ub2e4.\\uac00\\uc694\\ud504\\ub85c\\uadf8\\ub7a8 <\\uc778\\uae30\\uac00\\uc694> MC\\ub85c \\ud65c\\uc57d \\uc911\\uc778 \\ubbf8\\ub140 \\uc790\\ub9e4, \\ubc30\\uc6b0 \\uacf5\\uc2b9\\uc5f0\\uacfc \\uc778\\uae30 \\uac78\\uadf8\\ub8f9 \\ud2b8\\uc640\\uc774\\uc2a4\\uc758 \\uc815\\uc5f0\\uc758 \\ubd80\\uce5c\\uc778 \\uc720\\ucc3d\\uc900 \\uc170\\ud504\\uac00 \\ud65c\\ub3d9\\ud558\\uace0 \\uc788\\ub294 \\ud55c\\uc2dd\\ub2f9\\uc774\\ub2e4. \\uc720\\ucc3d\\uc900 \\uc170\\ud504\\ub294 \\uc11c\\uc6b8 \\uc720\\uba85 \\ud638\\ud154\\uc5d0\\uc11c 20\\ub144 \\uc774\\uc0c1 \\uacbd\\ub825\\uc744 \\uc313\\uc740 \\uc2e4\\ub825\\ud30c \\uc170\\ud504\\ub85c \\uc54c\\ub824\\uc838 \\uc788\\ub2e4.\",\n          \"\\uc0bc\\uccad\\uac01\\uc740 \\uc5ec\\uc57c \\uace0\\uc704\\uc815\\uce58\\uc778\\uc758 \\ud68c\\ub3d9\\uacfc \\ub0a8\\ubd81\\uc801\\uc2ed\\uc790\\ud68c\\ub2f4, \\ud55c\\uc77c\\ud68c\\ub2f4 \\ud611\\uc0c1 \\uc7a5\\uc18c\\ub85c \\uc774\\uc6a9\\ub418\\uc5c8\\ub358 \\uc804\\ud1b5\\uc608\\uc220\\ubcf5\\ud569\\ubb38\\ud654\\uacf5\\uac04\\uc774\\ub2e4. \\uacf5\\uc5f0\\uc7a5, \\ud55c\\uc2dd\\ub2f9, \\ucc3b\\uc9d1, \\uac1d\\uc2e4 \\ub4f1\\uc73c\\ub85c \\uad6c\\uc131\\ub418\\uc5b4\\uc788\\uc73c\\uba70 \\uc6d4\\uc694\\uc77c\\uc744 \\uc81c\\uc678\\ud558\\uace0\\ub294 \\uc5f0\\uc911 \\uc804\\ud1b5\\uacf5\\uc5f0\\uc774 \\uc5f4\\ub9b0\\ub2e4. \\uc0bc\\uccad\\uac01\\uc5d0 \\uc788\\ub294 \\uac74\\ubb3c\\ub4e4\\uc740 \\ud55c\\uad6d\\uc758 \\uac74\\ucd95\\ubbf8\\ub97c \\ub290\\ub084 \\uc218 \\uc788\\ub294 \\ud55c\\uc625\\uc73c\\ub85c, \\ubcf8\\ucc44\\uc778 \\uc77c\\ud654\\ub2f9\\uacfc \\ub3d9\\ubc31\\ud5cc, \\uc720\\ud558\\uc815, \\ucde8\\ud55c\\ub2f9, \\ucc9c\\ucd94\\ub2f9, \\uccad\\ucc9c\\ub2f9 \\ub4f1 5\\uac1c\\uc758 \\ubcc4\\ucc44\\ub85c \\uc774\\ub8e8\\uc5b4\\uc838 \\uc788\\ub2e4. \\uc774 \\uc911 \\uc77c\\ud654\\ub2f9 1\\uce35\\uc5d0 \\uc0bc\\uccad\\uac01 \\ud55c\\uc2dd\\ub2f9\\uc774 \\uc788\\ub2e4. \\uc0bc\\uccad\\uac01 \\ud55c\\uc2dd\\ub2f9\\uc740 \\uace0\\uae09\\ud55c\\uc2dd\\uc744 \\uc790\\uc5f0\\uc758 \\ud48d\\ub958\\uc640 \\ud568\\uaed8 \\uc990\\uae38 \\uc218 \\uc788\\ub294 \\ud6cc\\ub96d\\ud55c \\uc7a5\\uc18c\\ub2e4.\",\n          \"\\uc138\\uc885\\ub9c8\\uc744\\uc740 \\ucd94\\uc0ac \\uae40\\uc815\\ud76c \\ub4f1 \\uc870\\uc120\\uc2dc\\ub300 \\uc608\\ub2a5\\uc778\\ub4e4\\uc774 \\ubaa8\\uc774\\ub294 \\uc911\\uc2ec\\uc9c0\\uc600\\uc73c\\uba70 \\uadfc\\ub300\\uc5d0\\ub3c4 \\uc774\\uc0c1 \\ub4f1 \\ubb38\\uc778\\ub4e4\\uc774 \\ud65c\\ub3d9\\ud558\\ub358 \\uc911\\uc2ec\\uc9c0\\uc600\\ub2e4. \\uc77c\\uc81c\\uac15\\uc810\\uae30 \\uc77c\\ubcf8\\uc778\\ub4e4\\uc744 \\uc704\\ud574 \\ub9cc\\ub4e4\\uc5b4\\uc9c4 \\uacf5\\uc124\\uc2dc\\uc7a5\\uc774 \\ubaa8\\ud0dc\\uc774\\ub098 6.25\\uc774\\ud6c4 \\uc778\\uad6c\\uc99d\\uac00\\ub85c \\uc2dc\\uc7a5\\uc758 \\ud544\\uc694\\uc131\\uc774 \\ub192\\uc544\\uc838 \\ud604\\uc7ac\\ucc98\\ub7fc \\ubb3c\\uac74\\uc744 \\uc0ac\\uace0\\ud30c\\ub294 \\uc2dc\\uc7a5\\uc758 \\ud615\\ud0dc\\ub97c \\uac16\\ucd94\\uac8c \\ub418\\uc5c8\\ub2e4.    \\ud1b5\\uc778\\uc2dc\\uc7a5\\uc740 \\uc0c1\\uad8c\\uc774 \\ud65c\\uc131\\ud654\\ub41c \\uacf3\\uc73c\\ub85c \\ub2e4\\ub978 \\uc804\\ud1b5\\uc2dc\\uc7a5\\uc758 \\ubca4\\uce58\\ub9c8\\ud0b9 \\uc0ac\\ub840\\ub85c \\uc720\\uba85\\ud558\\uba70 \\ud2b9\\ud788 \\ud1b5\\uc778\\uc2dc\\uc7a5\\uc5d0\\uc11c \\uc790\\uccb4 \\uc81c\\uc791\\ud55c \\uc5fd\\uc804\\uc740 \\ud1b5\\uc778\\uc2dc\\uc7a5\\ub9cc\\uc758 \\uc990\\uae38 \\uac70\\ub9ac\\ub2e4. \\uc5fd\\uc804\\uc73c\\ub85c \\ud658\\uc804\\ud568\\uacfc \\ub3d9\\uc2dc\\uc5d0 \\uac80\\uc740\\uc0c9 \\ud50c\\ub77c\\uc2a4\\ud2f1 \\uc2dd\\ud310\\ub3c4 \\ubc1b\\uac8c \\ub418\\ub294\\ub370 \\uc774\\ub54c\\ubd80\\ud130 \\uc2dd\\ud310\\uc744 \\ub4e4\\uace0 \\ub2e4\\ub2c8\\uba74\\uc11c \\uc2dc\\uc7a5 \\uacf3\\uacf3\\uc744 \\ub2e4\\ub2c8\\uba70 \\uc74c\\uc2dd\\uc744 \\uba39\\uc744 \\uc218 \\uc788\\ub2e4. \\ub2e8, \\uc5fd\\uc804\\uc740 \\uac00\\ub9f9\\uc810\\uc5d0\\uc11c\\ub9cc \\uc0ac\\uc6a9 \\uac00\\ub2a5\\ud558\\ub2e4.\"\n        ],\n        \"semantic_type\": \"\",\n        \"description\": \"\"\n      }\n    },\n    {\n      \"column\": \"\\uc5c5\\uc18c\\uc815\\ubcf4\",\n      \"properties\": {\n        \"dtype\": \"object\",\n        \"semantic_type\": \"\",\n        \"description\": \"\"\n      }\n    },\n    {\n      \"column\": \"\\ub9ac\\ubdf0\",\n      \"properties\": {\n        \"dtype\": \"object\",\n        \"semantic_type\": \"\",\n        \"description\": \"\"\n      }\n    }\n  ]\n}"
            }
          },
          "metadata": {},
          "execution_count": 25
        }
      ]
    },
    {
      "cell_type": "markdown",
      "source": [
        "- 모든 페이지에 대해 적용"
      ],
      "metadata": {
        "id": "wfTOBQds6G3F"
      }
    },
    {
      "cell_type": "code",
      "source": [
        "lines = []\n",
        "for page in tqdm(range(1, 122)):\n",
        "    url = f'{base_url}/restaurants?curPage={page}'\n",
        "    result = requests.get(url)\n",
        "    soup = BeautifulSoup(result.text, 'html.parser')\n",
        "    lis = soup.select('li.item')\n",
        "\n",
        "    for li in lis:\n",
        "        href = li.select_one('a')['href']\n",
        "        sub_url = f'{base_url}{href}'\n",
        "        sub_res = requests.get(sub_url)\n",
        "        sub_soup = BeautifulSoup(sub_res.text, 'html.parser')\n",
        "\n",
        "        name = sub_soup.select_one('.h3.textcenter').text.strip()\n",
        "        intro = sub_soup.select_one('.text-area').get_text().strip().replace(u'\\xa0', u' ')\n",
        "        dls = sub_soup.select('.detail-map-infor.first.border > dl')\n",
        "        info_dict = {}\n",
        "        for dl in dls:\n",
        "            dt = dl.select_one('dt').text.strip()\n",
        "            dd = dl.select_one('dd').text.strip().replace(u'\\xa0', u' ').replace('\\r', '\\n')\n",
        "            if dd == '웹사이트 보기':\n",
        "                dd = dl.select_one('a')['href']\n",
        "            info_dict[dt] = dd\n",
        "\n",
        "        inner_divs = sub_soup.select('.trip-lst > li > div.inner')\n",
        "        reviews = []\n",
        "        for inner_div in inner_divs:\n",
        "            review = inner_div.select_one('dd').text.strip()\n",
        "            score = inner_div.select_one('div.group-01 > img.trip-02')['alt'].split(':')[1]\n",
        "            row = {'review': review, 'score': score}\n",
        "            reviews.append(row)\n",
        "\n",
        "        lines.append({'상호': name, '설명': intro, '업소정보': info_dict, '리뷰': reviews})"
      ],
      "metadata": {
        "colab": {
          "base_uri": "https://localhost:8080/",
          "height": 391
        },
        "id": "FPpx9-6H55VO",
        "outputId": "a9f7a229-133d-42c9-8e02-44bf0a570175"
      },
      "execution_count": 26,
      "outputs": [
        {
          "output_type": "stream",
          "name": "stderr",
          "text": [
            " 47%|████▋     | 57/121 [23:33<26:26, 24.79s/it]\n"
          ]
        },
        {
          "output_type": "error",
          "ename": "KeyboardInterrupt",
          "evalue": "",
          "traceback": [
            "\u001b[0;31m---------------------------------------------------------------------------\u001b[0m",
            "\u001b[0;31mKeyboardInterrupt\u001b[0m                         Traceback (most recent call last)",
            "\u001b[0;32m<ipython-input-26-5efd1fc9f072>\u001b[0m in \u001b[0;36m<cell line: 2>\u001b[0;34m()\u001b[0m\n\u001b[1;32m      9\u001b[0m         \u001b[0mhref\u001b[0m \u001b[0;34m=\u001b[0m \u001b[0mli\u001b[0m\u001b[0;34m.\u001b[0m\u001b[0mselect_one\u001b[0m\u001b[0;34m(\u001b[0m\u001b[0;34m'a'\u001b[0m\u001b[0;34m)\u001b[0m\u001b[0;34m[\u001b[0m\u001b[0;34m'href'\u001b[0m\u001b[0;34m]\u001b[0m\u001b[0;34m\u001b[0m\u001b[0;34m\u001b[0m\u001b[0m\n\u001b[1;32m     10\u001b[0m         \u001b[0msub_url\u001b[0m \u001b[0;34m=\u001b[0m \u001b[0;34mf'{base_url}{href}'\u001b[0m\u001b[0;34m\u001b[0m\u001b[0;34m\u001b[0m\u001b[0m\n\u001b[0;32m---> 11\u001b[0;31m         \u001b[0msub_res\u001b[0m \u001b[0;34m=\u001b[0m \u001b[0mrequests\u001b[0m\u001b[0;34m.\u001b[0m\u001b[0mget\u001b[0m\u001b[0;34m(\u001b[0m\u001b[0msub_url\u001b[0m\u001b[0;34m)\u001b[0m\u001b[0;34m\u001b[0m\u001b[0;34m\u001b[0m\u001b[0m\n\u001b[0m\u001b[1;32m     12\u001b[0m         \u001b[0msub_soup\u001b[0m \u001b[0;34m=\u001b[0m \u001b[0mBeautifulSoup\u001b[0m\u001b[0;34m(\u001b[0m\u001b[0msub_res\u001b[0m\u001b[0;34m.\u001b[0m\u001b[0mtext\u001b[0m\u001b[0;34m,\u001b[0m \u001b[0;34m'html.parser'\u001b[0m\u001b[0;34m)\u001b[0m\u001b[0;34m\u001b[0m\u001b[0;34m\u001b[0m\u001b[0m\n\u001b[1;32m     13\u001b[0m \u001b[0;34m\u001b[0m\u001b[0m\n",
            "\u001b[0;32m/usr/local/lib/python3.10/dist-packages/requests/api.py\u001b[0m in \u001b[0;36mget\u001b[0;34m(url, params, **kwargs)\u001b[0m\n\u001b[1;32m     71\u001b[0m     \"\"\"\n\u001b[1;32m     72\u001b[0m \u001b[0;34m\u001b[0m\u001b[0m\n\u001b[0;32m---> 73\u001b[0;31m     \u001b[0;32mreturn\u001b[0m \u001b[0mrequest\u001b[0m\u001b[0;34m(\u001b[0m\u001b[0;34m\"get\"\u001b[0m\u001b[0;34m,\u001b[0m \u001b[0murl\u001b[0m\u001b[0;34m,\u001b[0m \u001b[0mparams\u001b[0m\u001b[0;34m=\u001b[0m\u001b[0mparams\u001b[0m\u001b[0;34m,\u001b[0m \u001b[0;34m**\u001b[0m\u001b[0mkwargs\u001b[0m\u001b[0;34m)\u001b[0m\u001b[0;34m\u001b[0m\u001b[0;34m\u001b[0m\u001b[0m\n\u001b[0m\u001b[1;32m     74\u001b[0m \u001b[0;34m\u001b[0m\u001b[0m\n\u001b[1;32m     75\u001b[0m \u001b[0;34m\u001b[0m\u001b[0m\n",
            "\u001b[0;32m/usr/local/lib/python3.10/dist-packages/requests/api.py\u001b[0m in \u001b[0;36mrequest\u001b[0;34m(method, url, **kwargs)\u001b[0m\n\u001b[1;32m     57\u001b[0m     \u001b[0;31m# cases, and look like a memory leak in others.\u001b[0m\u001b[0;34m\u001b[0m\u001b[0;34m\u001b[0m\u001b[0m\n\u001b[1;32m     58\u001b[0m     \u001b[0;32mwith\u001b[0m \u001b[0msessions\u001b[0m\u001b[0;34m.\u001b[0m\u001b[0mSession\u001b[0m\u001b[0;34m(\u001b[0m\u001b[0;34m)\u001b[0m \u001b[0;32mas\u001b[0m \u001b[0msession\u001b[0m\u001b[0;34m:\u001b[0m\u001b[0;34m\u001b[0m\u001b[0;34m\u001b[0m\u001b[0m\n\u001b[0;32m---> 59\u001b[0;31m         \u001b[0;32mreturn\u001b[0m \u001b[0msession\u001b[0m\u001b[0;34m.\u001b[0m\u001b[0mrequest\u001b[0m\u001b[0;34m(\u001b[0m\u001b[0mmethod\u001b[0m\u001b[0;34m=\u001b[0m\u001b[0mmethod\u001b[0m\u001b[0;34m,\u001b[0m \u001b[0murl\u001b[0m\u001b[0;34m=\u001b[0m\u001b[0murl\u001b[0m\u001b[0;34m,\u001b[0m \u001b[0;34m**\u001b[0m\u001b[0mkwargs\u001b[0m\u001b[0;34m)\u001b[0m\u001b[0;34m\u001b[0m\u001b[0;34m\u001b[0m\u001b[0m\n\u001b[0m\u001b[1;32m     60\u001b[0m \u001b[0;34m\u001b[0m\u001b[0m\n\u001b[1;32m     61\u001b[0m \u001b[0;34m\u001b[0m\u001b[0m\n",
            "\u001b[0;32m/usr/local/lib/python3.10/dist-packages/requests/sessions.py\u001b[0m in \u001b[0;36mrequest\u001b[0;34m(self, method, url, params, data, headers, cookies, files, auth, timeout, allow_redirects, proxies, hooks, stream, verify, cert, json)\u001b[0m\n\u001b[1;32m    587\u001b[0m         }\n\u001b[1;32m    588\u001b[0m         \u001b[0msend_kwargs\u001b[0m\u001b[0;34m.\u001b[0m\u001b[0mupdate\u001b[0m\u001b[0;34m(\u001b[0m\u001b[0msettings\u001b[0m\u001b[0;34m)\u001b[0m\u001b[0;34m\u001b[0m\u001b[0;34m\u001b[0m\u001b[0m\n\u001b[0;32m--> 589\u001b[0;31m         \u001b[0mresp\u001b[0m \u001b[0;34m=\u001b[0m \u001b[0mself\u001b[0m\u001b[0;34m.\u001b[0m\u001b[0msend\u001b[0m\u001b[0;34m(\u001b[0m\u001b[0mprep\u001b[0m\u001b[0;34m,\u001b[0m \u001b[0;34m**\u001b[0m\u001b[0msend_kwargs\u001b[0m\u001b[0;34m)\u001b[0m\u001b[0;34m\u001b[0m\u001b[0;34m\u001b[0m\u001b[0m\n\u001b[0m\u001b[1;32m    590\u001b[0m \u001b[0;34m\u001b[0m\u001b[0m\n\u001b[1;32m    591\u001b[0m         \u001b[0;32mreturn\u001b[0m \u001b[0mresp\u001b[0m\u001b[0;34m\u001b[0m\u001b[0;34m\u001b[0m\u001b[0m\n",
            "\u001b[0;32m/usr/local/lib/python3.10/dist-packages/requests/sessions.py\u001b[0m in \u001b[0;36msend\u001b[0;34m(self, request, **kwargs)\u001b[0m\n\u001b[1;32m    744\u001b[0m \u001b[0;34m\u001b[0m\u001b[0m\n\u001b[1;32m    745\u001b[0m         \u001b[0;32mif\u001b[0m \u001b[0;32mnot\u001b[0m \u001b[0mstream\u001b[0m\u001b[0;34m:\u001b[0m\u001b[0;34m\u001b[0m\u001b[0;34m\u001b[0m\u001b[0m\n\u001b[0;32m--> 746\u001b[0;31m             \u001b[0mr\u001b[0m\u001b[0;34m.\u001b[0m\u001b[0mcontent\u001b[0m\u001b[0;34m\u001b[0m\u001b[0;34m\u001b[0m\u001b[0m\n\u001b[0m\u001b[1;32m    747\u001b[0m \u001b[0;34m\u001b[0m\u001b[0m\n\u001b[1;32m    748\u001b[0m         \u001b[0;32mreturn\u001b[0m \u001b[0mr\u001b[0m\u001b[0;34m\u001b[0m\u001b[0;34m\u001b[0m\u001b[0m\n",
            "\u001b[0;32m/usr/local/lib/python3.10/dist-packages/requests/models.py\u001b[0m in \u001b[0;36mcontent\u001b[0;34m(self)\u001b[0m\n\u001b[1;32m    900\u001b[0m                 \u001b[0mself\u001b[0m\u001b[0;34m.\u001b[0m\u001b[0m_content\u001b[0m \u001b[0;34m=\u001b[0m \u001b[0;32mNone\u001b[0m\u001b[0;34m\u001b[0m\u001b[0;34m\u001b[0m\u001b[0m\n\u001b[1;32m    901\u001b[0m             \u001b[0;32melse\u001b[0m\u001b[0;34m:\u001b[0m\u001b[0;34m\u001b[0m\u001b[0;34m\u001b[0m\u001b[0m\n\u001b[0;32m--> 902\u001b[0;31m                 \u001b[0mself\u001b[0m\u001b[0;34m.\u001b[0m\u001b[0m_content\u001b[0m \u001b[0;34m=\u001b[0m \u001b[0;34mb\"\"\u001b[0m\u001b[0;34m.\u001b[0m\u001b[0mjoin\u001b[0m\u001b[0;34m(\u001b[0m\u001b[0mself\u001b[0m\u001b[0;34m.\u001b[0m\u001b[0miter_content\u001b[0m\u001b[0;34m(\u001b[0m\u001b[0mCONTENT_CHUNK_SIZE\u001b[0m\u001b[0;34m)\u001b[0m\u001b[0;34m)\u001b[0m \u001b[0;32mor\u001b[0m \u001b[0;34mb\"\"\u001b[0m\u001b[0;34m\u001b[0m\u001b[0;34m\u001b[0m\u001b[0m\n\u001b[0m\u001b[1;32m    903\u001b[0m \u001b[0;34m\u001b[0m\u001b[0m\n\u001b[1;32m    904\u001b[0m         \u001b[0mself\u001b[0m\u001b[0;34m.\u001b[0m\u001b[0m_content_consumed\u001b[0m \u001b[0;34m=\u001b[0m \u001b[0;32mTrue\u001b[0m\u001b[0;34m\u001b[0m\u001b[0;34m\u001b[0m\u001b[0m\n",
            "\u001b[0;32m/usr/local/lib/python3.10/dist-packages/requests/models.py\u001b[0m in \u001b[0;36mgenerate\u001b[0;34m()\u001b[0m\n\u001b[1;32m    818\u001b[0m             \u001b[0;32mif\u001b[0m \u001b[0mhasattr\u001b[0m\u001b[0;34m(\u001b[0m\u001b[0mself\u001b[0m\u001b[0;34m.\u001b[0m\u001b[0mraw\u001b[0m\u001b[0;34m,\u001b[0m \u001b[0;34m\"stream\"\u001b[0m\u001b[0;34m)\u001b[0m\u001b[0;34m:\u001b[0m\u001b[0;34m\u001b[0m\u001b[0;34m\u001b[0m\u001b[0m\n\u001b[1;32m    819\u001b[0m                 \u001b[0;32mtry\u001b[0m\u001b[0;34m:\u001b[0m\u001b[0;34m\u001b[0m\u001b[0;34m\u001b[0m\u001b[0m\n\u001b[0;32m--> 820\u001b[0;31m                     \u001b[0;32myield\u001b[0m \u001b[0;32mfrom\u001b[0m \u001b[0mself\u001b[0m\u001b[0;34m.\u001b[0m\u001b[0mraw\u001b[0m\u001b[0;34m.\u001b[0m\u001b[0mstream\u001b[0m\u001b[0;34m(\u001b[0m\u001b[0mchunk_size\u001b[0m\u001b[0;34m,\u001b[0m \u001b[0mdecode_content\u001b[0m\u001b[0;34m=\u001b[0m\u001b[0;32mTrue\u001b[0m\u001b[0;34m)\u001b[0m\u001b[0;34m\u001b[0m\u001b[0;34m\u001b[0m\u001b[0m\n\u001b[0m\u001b[1;32m    821\u001b[0m                 \u001b[0;32mexcept\u001b[0m \u001b[0mProtocolError\u001b[0m \u001b[0;32mas\u001b[0m \u001b[0me\u001b[0m\u001b[0;34m:\u001b[0m\u001b[0;34m\u001b[0m\u001b[0;34m\u001b[0m\u001b[0m\n\u001b[1;32m    822\u001b[0m                     \u001b[0;32mraise\u001b[0m \u001b[0mChunkedEncodingError\u001b[0m\u001b[0;34m(\u001b[0m\u001b[0me\u001b[0m\u001b[0;34m)\u001b[0m\u001b[0;34m\u001b[0m\u001b[0;34m\u001b[0m\u001b[0m\n",
            "\u001b[0;32m/usr/local/lib/python3.10/dist-packages/urllib3/response.py\u001b[0m in \u001b[0;36mstream\u001b[0;34m(self, amt, decode_content)\u001b[0m\n\u001b[1;32m   1055\u001b[0m         \"\"\"\n\u001b[1;32m   1056\u001b[0m         \u001b[0;32mif\u001b[0m \u001b[0mself\u001b[0m\u001b[0;34m.\u001b[0m\u001b[0mchunked\u001b[0m \u001b[0;32mand\u001b[0m \u001b[0mself\u001b[0m\u001b[0;34m.\u001b[0m\u001b[0msupports_chunked_reads\u001b[0m\u001b[0;34m(\u001b[0m\u001b[0;34m)\u001b[0m\u001b[0;34m:\u001b[0m\u001b[0;34m\u001b[0m\u001b[0;34m\u001b[0m\u001b[0m\n\u001b[0;32m-> 1057\u001b[0;31m             \u001b[0;32myield\u001b[0m \u001b[0;32mfrom\u001b[0m \u001b[0mself\u001b[0m\u001b[0;34m.\u001b[0m\u001b[0mread_chunked\u001b[0m\u001b[0;34m(\u001b[0m\u001b[0mamt\u001b[0m\u001b[0;34m,\u001b[0m \u001b[0mdecode_content\u001b[0m\u001b[0;34m=\u001b[0m\u001b[0mdecode_content\u001b[0m\u001b[0;34m)\u001b[0m\u001b[0;34m\u001b[0m\u001b[0;34m\u001b[0m\u001b[0m\n\u001b[0m\u001b[1;32m   1058\u001b[0m         \u001b[0;32melse\u001b[0m\u001b[0;34m:\u001b[0m\u001b[0;34m\u001b[0m\u001b[0;34m\u001b[0m\u001b[0m\n\u001b[1;32m   1059\u001b[0m             \u001b[0;32mwhile\u001b[0m \u001b[0;32mnot\u001b[0m \u001b[0mis_fp_closed\u001b[0m\u001b[0;34m(\u001b[0m\u001b[0mself\u001b[0m\u001b[0;34m.\u001b[0m\u001b[0m_fp\u001b[0m\u001b[0;34m)\u001b[0m \u001b[0;32mor\u001b[0m \u001b[0mlen\u001b[0m\u001b[0;34m(\u001b[0m\u001b[0mself\u001b[0m\u001b[0;34m.\u001b[0m\u001b[0m_decoded_buffer\u001b[0m\u001b[0;34m)\u001b[0m \u001b[0;34m>\u001b[0m \u001b[0;36m0\u001b[0m\u001b[0;34m:\u001b[0m\u001b[0;34m\u001b[0m\u001b[0;34m\u001b[0m\u001b[0m\n",
            "\u001b[0;32m/usr/local/lib/python3.10/dist-packages/urllib3/response.py\u001b[0m in \u001b[0;36mread_chunked\u001b[0;34m(self, amt, decode_content)\u001b[0m\n\u001b[1;32m   1207\u001b[0m                 \u001b[0;32mif\u001b[0m \u001b[0mself\u001b[0m\u001b[0;34m.\u001b[0m\u001b[0mchunk_left\u001b[0m \u001b[0;34m==\u001b[0m \u001b[0;36m0\u001b[0m\u001b[0;34m:\u001b[0m\u001b[0;34m\u001b[0m\u001b[0;34m\u001b[0m\u001b[0m\n\u001b[1;32m   1208\u001b[0m                     \u001b[0;32mbreak\u001b[0m\u001b[0;34m\u001b[0m\u001b[0;34m\u001b[0m\u001b[0m\n\u001b[0;32m-> 1209\u001b[0;31m                 \u001b[0mchunk\u001b[0m \u001b[0;34m=\u001b[0m \u001b[0mself\u001b[0m\u001b[0;34m.\u001b[0m\u001b[0m_handle_chunk\u001b[0m\u001b[0;34m(\u001b[0m\u001b[0mamt\u001b[0m\u001b[0;34m)\u001b[0m\u001b[0;34m\u001b[0m\u001b[0;34m\u001b[0m\u001b[0m\n\u001b[0m\u001b[1;32m   1210\u001b[0m                 decoded = self._decode(\n\u001b[1;32m   1211\u001b[0m                     \u001b[0mchunk\u001b[0m\u001b[0;34m,\u001b[0m \u001b[0mdecode_content\u001b[0m\u001b[0;34m=\u001b[0m\u001b[0mdecode_content\u001b[0m\u001b[0;34m,\u001b[0m \u001b[0mflush_decoder\u001b[0m\u001b[0;34m=\u001b[0m\u001b[0;32mFalse\u001b[0m\u001b[0;34m\u001b[0m\u001b[0;34m\u001b[0m\u001b[0m\n",
            "\u001b[0;32m/usr/local/lib/python3.10/dist-packages/urllib3/response.py\u001b[0m in \u001b[0;36m_handle_chunk\u001b[0;34m(self, amt)\u001b[0m\n\u001b[1;32m   1153\u001b[0m             \u001b[0mreturned_chunk\u001b[0m \u001b[0;34m=\u001b[0m \u001b[0mvalue\u001b[0m\u001b[0;34m\u001b[0m\u001b[0;34m\u001b[0m\u001b[0m\n\u001b[1;32m   1154\u001b[0m         \u001b[0;32melse\u001b[0m\u001b[0;34m:\u001b[0m  \u001b[0;31m# amt > self.chunk_left\u001b[0m\u001b[0;34m\u001b[0m\u001b[0;34m\u001b[0m\u001b[0m\n\u001b[0;32m-> 1155\u001b[0;31m             \u001b[0mreturned_chunk\u001b[0m \u001b[0;34m=\u001b[0m \u001b[0mself\u001b[0m\u001b[0;34m.\u001b[0m\u001b[0m_fp\u001b[0m\u001b[0;34m.\u001b[0m\u001b[0m_safe_read\u001b[0m\u001b[0;34m(\u001b[0m\u001b[0mself\u001b[0m\u001b[0;34m.\u001b[0m\u001b[0mchunk_left\u001b[0m\u001b[0;34m)\u001b[0m  \u001b[0;31m# type: ignore[union-attr]\u001b[0m\u001b[0;34m\u001b[0m\u001b[0;34m\u001b[0m\u001b[0m\n\u001b[0m\u001b[1;32m   1156\u001b[0m             \u001b[0mself\u001b[0m\u001b[0;34m.\u001b[0m\u001b[0m_fp\u001b[0m\u001b[0;34m.\u001b[0m\u001b[0m_safe_read\u001b[0m\u001b[0;34m(\u001b[0m\u001b[0;36m2\u001b[0m\u001b[0;34m)\u001b[0m  \u001b[0;31m# type: ignore[union-attr] # Toss the CRLF at the end of the chunk.\u001b[0m\u001b[0;34m\u001b[0m\u001b[0;34m\u001b[0m\u001b[0m\n\u001b[1;32m   1157\u001b[0m             \u001b[0mself\u001b[0m\u001b[0;34m.\u001b[0m\u001b[0mchunk_left\u001b[0m \u001b[0;34m=\u001b[0m \u001b[0;32mNone\u001b[0m\u001b[0;34m\u001b[0m\u001b[0;34m\u001b[0m\u001b[0m\n",
            "\u001b[0;32m/usr/lib/python3.10/http/client.py\u001b[0m in \u001b[0;36m_safe_read\u001b[0;34m(self, amt)\u001b[0m\n\u001b[1;32m    629\u001b[0m         \u001b[0mIncompleteRead\u001b[0m \u001b[0mexception\u001b[0m \u001b[0mcan\u001b[0m \u001b[0mbe\u001b[0m \u001b[0mused\u001b[0m \u001b[0mto\u001b[0m \u001b[0mdetect\u001b[0m \u001b[0mthe\u001b[0m \u001b[0mproblem\u001b[0m\u001b[0;34m.\u001b[0m\u001b[0;34m\u001b[0m\u001b[0;34m\u001b[0m\u001b[0m\n\u001b[1;32m    630\u001b[0m         \"\"\"\n\u001b[0;32m--> 631\u001b[0;31m         \u001b[0mdata\u001b[0m \u001b[0;34m=\u001b[0m \u001b[0mself\u001b[0m\u001b[0;34m.\u001b[0m\u001b[0mfp\u001b[0m\u001b[0;34m.\u001b[0m\u001b[0mread\u001b[0m\u001b[0;34m(\u001b[0m\u001b[0mamt\u001b[0m\u001b[0;34m)\u001b[0m\u001b[0;34m\u001b[0m\u001b[0;34m\u001b[0m\u001b[0m\n\u001b[0m\u001b[1;32m    632\u001b[0m         \u001b[0;32mif\u001b[0m \u001b[0mlen\u001b[0m\u001b[0;34m(\u001b[0m\u001b[0mdata\u001b[0m\u001b[0;34m)\u001b[0m \u001b[0;34m<\u001b[0m \u001b[0mamt\u001b[0m\u001b[0;34m:\u001b[0m\u001b[0;34m\u001b[0m\u001b[0;34m\u001b[0m\u001b[0m\n\u001b[1;32m    633\u001b[0m             \u001b[0;32mraise\u001b[0m \u001b[0mIncompleteRead\u001b[0m\u001b[0;34m(\u001b[0m\u001b[0mdata\u001b[0m\u001b[0;34m,\u001b[0m \u001b[0mamt\u001b[0m\u001b[0;34m-\u001b[0m\u001b[0mlen\u001b[0m\u001b[0;34m(\u001b[0m\u001b[0mdata\u001b[0m\u001b[0;34m)\u001b[0m\u001b[0;34m)\u001b[0m\u001b[0;34m\u001b[0m\u001b[0;34m\u001b[0m\u001b[0m\n",
            "\u001b[0;32m/usr/lib/python3.10/socket.py\u001b[0m in \u001b[0;36mreadinto\u001b[0;34m(self, b)\u001b[0m\n\u001b[1;32m    703\u001b[0m         \u001b[0;32mwhile\u001b[0m \u001b[0;32mTrue\u001b[0m\u001b[0;34m:\u001b[0m\u001b[0;34m\u001b[0m\u001b[0;34m\u001b[0m\u001b[0m\n\u001b[1;32m    704\u001b[0m             \u001b[0;32mtry\u001b[0m\u001b[0;34m:\u001b[0m\u001b[0;34m\u001b[0m\u001b[0;34m\u001b[0m\u001b[0m\n\u001b[0;32m--> 705\u001b[0;31m                 \u001b[0;32mreturn\u001b[0m \u001b[0mself\u001b[0m\u001b[0;34m.\u001b[0m\u001b[0m_sock\u001b[0m\u001b[0;34m.\u001b[0m\u001b[0mrecv_into\u001b[0m\u001b[0;34m(\u001b[0m\u001b[0mb\u001b[0m\u001b[0;34m)\u001b[0m\u001b[0;34m\u001b[0m\u001b[0;34m\u001b[0m\u001b[0m\n\u001b[0m\u001b[1;32m    706\u001b[0m             \u001b[0;32mexcept\u001b[0m \u001b[0mtimeout\u001b[0m\u001b[0;34m:\u001b[0m\u001b[0;34m\u001b[0m\u001b[0;34m\u001b[0m\u001b[0m\n\u001b[1;32m    707\u001b[0m                 \u001b[0mself\u001b[0m\u001b[0;34m.\u001b[0m\u001b[0m_timeout_occurred\u001b[0m \u001b[0;34m=\u001b[0m \u001b[0;32mTrue\u001b[0m\u001b[0;34m\u001b[0m\u001b[0;34m\u001b[0m\u001b[0m\n",
            "\u001b[0;32m/usr/lib/python3.10/ssl.py\u001b[0m in \u001b[0;36mrecv_into\u001b[0;34m(self, buffer, nbytes, flags)\u001b[0m\n\u001b[1;32m   1301\u001b[0m                   \u001b[0;34m\"non-zero flags not allowed in calls to recv_into() on %s\"\u001b[0m \u001b[0;34m%\u001b[0m\u001b[0;34m\u001b[0m\u001b[0;34m\u001b[0m\u001b[0m\n\u001b[1;32m   1302\u001b[0m                   self.__class__)\n\u001b[0;32m-> 1303\u001b[0;31m             \u001b[0;32mreturn\u001b[0m \u001b[0mself\u001b[0m\u001b[0;34m.\u001b[0m\u001b[0mread\u001b[0m\u001b[0;34m(\u001b[0m\u001b[0mnbytes\u001b[0m\u001b[0;34m,\u001b[0m \u001b[0mbuffer\u001b[0m\u001b[0;34m)\u001b[0m\u001b[0;34m\u001b[0m\u001b[0;34m\u001b[0m\u001b[0m\n\u001b[0m\u001b[1;32m   1304\u001b[0m         \u001b[0;32melse\u001b[0m\u001b[0;34m:\u001b[0m\u001b[0;34m\u001b[0m\u001b[0;34m\u001b[0m\u001b[0m\n\u001b[1;32m   1305\u001b[0m             \u001b[0;32mreturn\u001b[0m \u001b[0msuper\u001b[0m\u001b[0;34m(\u001b[0m\u001b[0;34m)\u001b[0m\u001b[0;34m.\u001b[0m\u001b[0mrecv_into\u001b[0m\u001b[0;34m(\u001b[0m\u001b[0mbuffer\u001b[0m\u001b[0;34m,\u001b[0m \u001b[0mnbytes\u001b[0m\u001b[0;34m,\u001b[0m \u001b[0mflags\u001b[0m\u001b[0;34m)\u001b[0m\u001b[0;34m\u001b[0m\u001b[0;34m\u001b[0m\u001b[0m\n",
            "\u001b[0;32m/usr/lib/python3.10/ssl.py\u001b[0m in \u001b[0;36mread\u001b[0;34m(self, len, buffer)\u001b[0m\n\u001b[1;32m   1157\u001b[0m         \u001b[0;32mtry\u001b[0m\u001b[0;34m:\u001b[0m\u001b[0;34m\u001b[0m\u001b[0;34m\u001b[0m\u001b[0m\n\u001b[1;32m   1158\u001b[0m             \u001b[0;32mif\u001b[0m \u001b[0mbuffer\u001b[0m \u001b[0;32mis\u001b[0m \u001b[0;32mnot\u001b[0m \u001b[0;32mNone\u001b[0m\u001b[0;34m:\u001b[0m\u001b[0;34m\u001b[0m\u001b[0;34m\u001b[0m\u001b[0m\n\u001b[0;32m-> 1159\u001b[0;31m                 \u001b[0;32mreturn\u001b[0m \u001b[0mself\u001b[0m\u001b[0;34m.\u001b[0m\u001b[0m_sslobj\u001b[0m\u001b[0;34m.\u001b[0m\u001b[0mread\u001b[0m\u001b[0;34m(\u001b[0m\u001b[0mlen\u001b[0m\u001b[0;34m,\u001b[0m \u001b[0mbuffer\u001b[0m\u001b[0;34m)\u001b[0m\u001b[0;34m\u001b[0m\u001b[0;34m\u001b[0m\u001b[0m\n\u001b[0m\u001b[1;32m   1160\u001b[0m             \u001b[0;32melse\u001b[0m\u001b[0;34m:\u001b[0m\u001b[0;34m\u001b[0m\u001b[0;34m\u001b[0m\u001b[0m\n\u001b[1;32m   1161\u001b[0m                 \u001b[0;32mreturn\u001b[0m \u001b[0mself\u001b[0m\u001b[0;34m.\u001b[0m\u001b[0m_sslobj\u001b[0m\u001b[0;34m.\u001b[0m\u001b[0mread\u001b[0m\u001b[0;34m(\u001b[0m\u001b[0mlen\u001b[0m\u001b[0;34m)\u001b[0m\u001b[0;34m\u001b[0m\u001b[0;34m\u001b[0m\u001b[0m\n",
            "\u001b[0;31mKeyboardInterrupt\u001b[0m: "
          ]
        }
      ]
    },
    {
      "cell_type": "code",
      "source": [
        "df = pd.DataFrame(lines)\n",
        "df.to_csv('서울맛집.csv', index=False)"
      ],
      "metadata": {
        "id": "y-SpUIqk6va-"
      },
      "execution_count": null,
      "outputs": []
    }
  ]
}